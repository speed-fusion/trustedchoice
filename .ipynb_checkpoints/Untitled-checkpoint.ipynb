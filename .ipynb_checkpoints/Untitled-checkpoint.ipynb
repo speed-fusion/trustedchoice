{
 "cells": [
  {
   "cell_type": "code",
   "execution_count": 1,
   "id": "caa1e318",
   "metadata": {},
   "outputs": [],
   "source": [
    "user = \"root\"\n",
    "password = \"C5E01228B178C925CD0A0D6C6889BB029072\"\n",
    "host = \"localhost:27017\"\n",
    "database = \"trusted_choice\"\n",
    "import pymongo\n",
    "import json\n",
    "class Database:\n",
    "    def __init__(self):\n",
    "        db_name = database\n",
    "        connection_uri = f'mongodb://{host}/?authSource=admin'\n",
    "        client = pymongo.MongoClient(connection_uri)\n",
    "        db = client[db_name]\n",
    "        \n",
    "        self.companies = db[\"companies\"]\n",
    "\n",
    "db = Database()\n"
   ]
  },
  {
   "cell_type": "code",
   "execution_count": 2,
   "id": "c90a8393",
   "metadata": {},
   "outputs": [],
   "source": [
    "all_data = list(db.companies.find({}))"
   ]
  },
  {
   "cell_type": "code",
   "execution_count": 3,
   "id": "0d9ee30b",
   "metadata": {},
   "outputs": [
    {
     "data": {
      "text/plain": [
       "15175"
      ]
     },
     "execution_count": 3,
     "metadata": {},
     "output_type": "execute_result"
    }
   ],
   "source": [
    "len(all_data)"
   ]
  },
  {
   "cell_type": "code",
   "execution_count": 5,
   "id": "ce1d361a",
   "metadata": {},
   "outputs": [
    {
     "data": {
      "text/plain": [
       "{'_id': ObjectId('62a4b25e78d090e4504d2887'),\n",
       " 'city_url': '/agent/ny/athol-springs/',\n",
       " 'city_name': 'Athol Springs (1)',\n",
       " 'state_code': 'ny',\n",
       " 'state_url': 'https://www.trustedchoice.com/agent/ny/',\n",
       " 'company_link': '/agency-profile/144936/benz-associates-llc/',\n",
       " 'status': 1,\n",
       " 'data': {'@context': 'http://schema.org/',\n",
       "  '@type': 'InsuranceAgency',\n",
       "  'name': 'Benz Associates LLC',\n",
       "  'legalName': 'Benz Associates LLC',\n",
       "  'telephone': '(716) 648-3230',\n",
       "  'description': 'For insurance clients who value an experienced professional to ensure that their financial assets are well protected, a Trusted Choice insurance agent provides the guidance and expertise to take care of your insurance needs and let you get a good night’s rest. U... read more about Benz Associates LLC, Hamburg, NY 14075-5002',\n",
       "  'areaServed': ['New York'],\n",
       "  'image': 'https://www.trustedchoice.com/agency/default-agency-image',\n",
       "  'address': {'@type': 'PostalAddress',\n",
       "   'streetAddress': ['36 Buffalo St'],\n",
       "   'addressLocality': 'Hamburg',\n",
       "   'addressRegion': 'NY',\n",
       "   'postalCode': '14075-5002'},\n",
       "  'geo': {'@type': 'GeoCoordinates',\n",
       "   'latitude': 42.717,\n",
       "   'longitude': -78.82946,\n",
       "   'postalCode': '14075-5002',\n",
       "   'address': {'@type': 'PostalAddress',\n",
       "    'streetAddress': ['36 Buffalo St'],\n",
       "    'addressLocality': 'Hamburg',\n",
       "    'addressRegion': 'NY',\n",
       "    'postalCode': '14075-5002'},\n",
       "   'addressCountry': {'@type': 'Country', 'name': 'US'}},\n",
       "  'openingHours': 'Mo 09:00-17:00,Tu 09:00-17:00,We 09:00-17:00,Th 09:00-17:00,Fr 09:00-17:00,Sa 09:00-17:00,Su 09:00-17:00'},\n",
       " 'agency_website': 'http://www.benzassociates.com'}"
      ]
     },
     "execution_count": 5,
     "metadata": {},
     "output_type": "execute_result"
    }
   ],
   "source": [
    "all_data[100]"
   ]
  },
  {
   "cell_type": "code",
   "execution_count": null,
   "id": "fc2c3708",
   "metadata": {},
   "outputs": [],
   "source": [
    "for item in all_data:\n",
    "    trusted_choice_url = \"https://www.trustedchoice.com\" + item[\"company_link\"]\n",
    "    agency_website = item[\"agency_website\"]\n",
    "    data = item[\"data\"]\n",
    "    agency_name = data[\"name\"]\n",
    "    \n",
    "    agency_telephone = data.get(\"telephone\",None)\n",
    "    \n",
    "    agency_email = data.get(\"email\",None)\n",
    "    \n",
    "    address = data[\"address\"]\n",
    "    \n",
    "    street = address[\"streetAddress\"]\n",
    "    locality = address[\"addressLocality\"]\n",
    "    region = address[\"addressRegion\"]\n",
    "    postal_code = address[\"postalCode\"]\n",
    "    "
   ]
  }
 ],
 "metadata": {
  "kernelspec": {
   "display_name": "Python 3 (ipykernel)",
   "language": "python",
   "name": "python3"
  },
  "language_info": {
   "codemirror_mode": {
    "name": "ipython",
    "version": 3
   },
   "file_extension": ".py",
   "mimetype": "text/x-python",
   "name": "python",
   "nbconvert_exporter": "python",
   "pygments_lexer": "ipython3",
   "version": "3.7.0"
  }
 },
 "nbformat": 4,
 "nbformat_minor": 5
}
